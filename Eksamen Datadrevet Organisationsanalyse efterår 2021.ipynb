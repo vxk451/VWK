{
 "cells": [
  {
   "cell_type": "markdown",
   "id": "33062565",
   "metadata": {},
   "source": [
    "# Eksamen Datadrevet Organisationsanalyse efterår 2021\n",
    "\n",
    "Peter Witfelt Larsen\n",
    "Frederik Valeur\n",
    "Marcus Kunøe"
   ]
  },
  {
   "cell_type": "code",
   "execution_count": 5,
   "id": "de09aef6",
   "metadata": {},
   "outputs": [],
   "source": [
    "# Loading packages\n",
    "import numpy as np\n",
    "import pandas as pd"
   ]
  },
  {
   "cell_type": "code",
   "execution_count": 4,
   "id": "cceecf5e",
   "metadata": {},
   "outputs": [],
   "source": [
    "# Session 2: Data Structuring 1"
   ]
  },
  {
   "cell_type": "code",
   "execution_count": null,
   "id": "c4fdbae5",
   "metadata": {},
   "outputs": [],
   "source": []
  },
  {
   "cell_type": "code",
   "execution_count": null,
   "id": "2cbcf098",
   "metadata": {},
   "outputs": [],
   "source": []
  }
 ],
 "metadata": {
  "kernelspec": {
   "display_name": "Python 3",
   "language": "python",
   "name": "python3"
  },
  "language_info": {
   "codemirror_mode": {
    "name": "ipython",
    "version": 3
   },
   "file_extension": ".py",
   "mimetype": "text/x-python",
   "name": "python",
   "nbconvert_exporter": "python",
   "pygments_lexer": "ipython3",
   "version": "3.8.8"
  }
 },
 "nbformat": 4,
 "nbformat_minor": 5
}
